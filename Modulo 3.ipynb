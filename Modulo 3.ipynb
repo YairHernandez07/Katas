{
 "cells": [
  {
   "cell_type": "code",
   "execution_count": 8,
   "metadata": {},
   "outputs": [
    {
     "name": "stdout",
     "output_type": "stream",
     "text": [
      "93\n"
     ]
    }
   ],
   "source": [
    "a = 93\n",
    "b = 27\n",
    "if a >= b:\n",
    "    print(a)"
   ]
  },
  {
   "cell_type": "code",
   "execution_count": 20,
   "metadata": {},
   "outputs": [
    {
     "name": "stdout",
     "output_type": "stream",
     "text": [
      "Alerta\n"
     ]
    }
   ],
   "source": [
    "velocidadsegura = 49 \n",
    "if velocidadsegura > 25:\n",
    "    print(\"Alerta\")\n",
    "else:\n",
    "    print(\"Seguro\")    \n"
   ]
  },
  {
   "cell_type": "code",
   "execution_count": 26,
   "metadata": {},
   "outputs": [
    {
     "name": "stdout",
     "output_type": "stream",
     "text": [
      "No se ve nada\n"
     ]
    }
   ],
   "source": [
    "asteroide = 19\n",
    "if asteroide >= 20:\n",
    "    print(\"Hay una luz\")\n",
    "else:\n",
    "    print(\"No se ve nada\")    \n"
   ]
  },
  {
   "cell_type": "code",
   "execution_count": 115,
   "metadata": {},
   "outputs": [
    {
     "name": "stdout",
     "output_type": "stream",
     "text": [
      "Hay una luz\n"
     ]
    }
   ],
   "source": [
    "Tamaño = 25\n",
    "Velocidad = 26\n",
    "if Velocidad > 25 and Tamaño > 25:\n",
    "    print(\"Alertaaaa\")\n",
    "elif Velocidad >= 20:\n",
    "    print(\"Hay una luz\")\n",
    "elif Tamaño < 25:\n",
    "    print(\"No hay nada\")  \n",
    "else:\n",
    "    print(\"Seguro\")"
   ]
  }
 ],
 "metadata": {
  "interpreter": {
   "hash": "dd1d1a0ba3a1da8ac5aad342e993d5a78214a9a63e276c6df5fb5022f5e6ccc7"
  },
  "kernelspec": {
   "display_name": "Python 3.10.2 64-bit",
   "language": "python",
   "name": "python3"
  },
  "language_info": {
   "codemirror_mode": {
    "name": "ipython",
    "version": 3
   },
   "file_extension": ".py",
   "mimetype": "text/x-python",
   "name": "python",
   "nbconvert_exporter": "python",
   "pygments_lexer": "ipython3",
   "version": "3.10.2"
  },
  "orig_nbformat": 4
 },
 "nbformat": 4,
 "nbformat_minor": 2
}
