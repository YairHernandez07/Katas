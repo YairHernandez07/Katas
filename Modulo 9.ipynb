{
 "cells": [
  {
   "cell_type": "code",
   "execution_count": 5,
   "metadata": {},
   "outputs": [
    {
     "name": "stdout",
     "output_type": "stream",
     "text": [
      "Reporte de combustible:\n",
      "    Total: 70.0%\n",
      "    Tanque 1: 100%\n",
      "    Tanque 2: 60%\n",
      "    Tanque 3: 50% \n",
      "    \n",
      "Reporte de combustible:\n",
      "    Total : 78.33333333333333%\n",
      "    Tanque 1: 90%\n",
      "    Tanque 2: 65%\n",
      "    Tanque 3: 80% \n",
      "    \n"
     ]
    }
   ],
   "source": [
    "def reporte(t1, t2, t3):\n",
    "    total = (t1 + t2 + t3) / 3\n",
    "    return f\"\"\"Reporte de combustible:\n",
    "    Total: {total}%\n",
    "    Tanque 1: {t1}%\n",
    "    Tanque 2: {t2}%\n",
    "    Tanque 3: {t3}% \n",
    "    \"\"\"\n",
    "print(reporte(100, 60, 50))\n",
    "def promedio(V1):\n",
    "    T1 = sum(V1)\n",
    "    N1 = len(V1)\n",
    "    return T1 / N1\n",
    "promedio([80, 85, 81])\n",
    "def reporte(t1, t2, t3):\n",
    "    return f\"\"\"Reporte de combustible:\n",
    "    Total : {promedio([t1, t2, t3])}%\n",
    "    Tanque 1: {t1}%\n",
    "    Tanque 2: {t2}%\n",
    "    Tanque 3: {t3}% \n",
    "    \"\"\"\n",
    "print(reporte(90, 65, 80))\n"
   ]
  },
  {
   "cell_type": "code",
   "execution_count": null,
   "metadata": {},
   "outputs": [],
   "source": []
  }
 ],
 "metadata": {
  "interpreter": {
   "hash": "dd1d1a0ba3a1da8ac5aad342e993d5a78214a9a63e276c6df5fb5022f5e6ccc7"
  },
  "kernelspec": {
   "display_name": "Python 3.10.2 64-bit",
   "language": "python",
   "name": "python3"
  },
  "language_info": {
   "codemirror_mode": {
    "name": "ipython",
    "version": 3
   },
   "file_extension": ".py",
   "mimetype": "text/x-python",
   "name": "python",
   "nbconvert_exporter": "python",
   "pygments_lexer": "ipython3",
   "version": "3.10.2"
  },
  "orig_nbformat": 4
 },
 "nbformat": 4,
 "nbformat_minor": 2
}
