{
 "cells": [
  {
   "cell_type": "code",
   "execution_count": 3,
   "metadata": {},
   "outputs": [
    {
     "data": {
      "text/plain": [
       "['Interesting facts about the Moon',\n",
       " \" The Moon is Earth's only satellite\",\n",
       " ' There are several interesting facts about the Moon and how it affects life here on Earth',\n",
       " ' \\nOn average, the Moon moves 4cm away from the Earth every year',\n",
       " ' This yearly drift is not significant enough to cause immediate effects on Earth',\n",
       " ' The highest']"
      ]
     },
     "execution_count": 3,
     "metadata": {},
     "output_type": "execute_result"
    }
   ],
   "source": [
    "text = \"\"\"Interesting facts about the Moon. The Moon is Earth's only satellite. There are several interesting facts about the Moon and how it affects life here on Earth. \n",
    "On average, the Moon moves 4cm away from the Earth every year. This yearly drift is not significant enough to cause immediate effects on Earth. The highest\"\"\"\n",
    "partes = text.split('.')\n",
    "partes"
   ]
  },
  {
   "cell_type": "code",
   "execution_count": 22,
   "metadata": {},
   "outputs": [
    {
     "name": "stdout",
     "output_type": "stream",
     "text": [
      "The Moon is Earth's only satellite\n",
      "There are several interesting facts about the Moon and how it affects life here on Earth\n",
      "This yearly drift is not significant enough to cause immediate effects on Earth\n",
      "The highest\n",
      "Interesting facts about the Moon\n",
      "The Moon is Earth's only satellite\n",
      "There are several interesting facts about the Moon and how it affects life here on Earth\n",
      "This yearly drift is not significant enough to cause immediate effects on Earth\n",
      "The highest\n"
     ]
    }
   ],
   "source": [
    "text = \"\"\"Interesting facts about the Moon. The Moon is Earth's only satellite. There are several interesting facts about the Moon and how it affects life here on Earth. \n",
    "On average, the Moon moves 4cm away from the Earth every year. This yearly drift is not significant enough to cause immediate effects on Earth. The highest\"\"\"\n",
    "#divvide texto\n",
    "partes = text.split('. ')\n",
    "partes\n",
    "#palabras calve\n",
    "clave= [\"average\", \"temperature\", \"distance\"]\n",
    "# Ciclo for para recorrer la cadena\n",
    "for ciclo in partes:\n",
    "    for clave in clave:\n",
    "        if clave in ciclo:\n",
    "            print(ciclo)\n",
    "            break\n",
    "# Ciclo para cambiar C a Celsius\n",
    "for ciclo in partes:\n",
    "    for clave in clave:\n",
    "        if clave in ciclo:\n",
    "            print(ciclo.replace(' C', ' Celsius'))\n",
    "            break"
   ]
  },
  {
   "cell_type": "code",
   "execution_count": 45,
   "metadata": {},
   "outputs": [
    {
     "name": "stdout",
     "output_type": "stream",
     "text": [
      "Viendo la Luna atravez de la Tierra\n"
     ]
    }
   ],
   "source": [
    "name = \"Luna\"\n",
    "gravity = 0.00162 # in kms\n",
    "planet = \"Tierra\"\n",
    "Titulo = \"Viendo la \" + name + \" atravez de la \" + planet\n",
    "print(Titulo)"
   ]
  },
  {
   "cell_type": "code",
   "execution_count": 57,
   "metadata": {},
   "outputs": [
    {
     "name": "stdout",
     "output_type": "stream",
     "text": [
      "Nombre del planeta Tierra\n",
      "Gravedad en Luna: Es de 1.6199999999999999 m/s2 \n"
     ]
    }
   ],
   "source": [
    "name = \"Luna\"\n",
    "gravity = 0.00162 # in kms\n",
    "planet = \"Tierra\"\n",
    "Plantilla = f\"\"\"Nombre del planeta {planet}\n",
    "Gravedad en {name}: Es de {gravity * 1000} m/s2 \"\"\" \n",
    "\n",
    "print(Plantilla)"
   ]
  },
  {
   "cell_type": "code",
   "execution_count": 60,
   "metadata": {},
   "outputs": [
    {
     "name": "stdout",
     "output_type": "stream",
     "text": [
      "Viendo La Luna Atravez De La Tierra \n",
      "Nombre del planeta Tierra\n",
      "Gravedad en Luna: Es de 1.6199999999999999 m/s2 \n"
     ]
    }
   ],
   "source": [
    "name = \"Luna\"\n",
    "gravity = 0.00162 # in kms\n",
    "planet = \"Tierra\"\n",
    "Titulo = \"Viendo la \" + name + \" atravez de la \" + planet\n",
    "Plantilla = f\"\"\"Nombre del planeta {planet}\n",
    "Gravedad en {name}: Es de {gravity * 1000} m/s2 \"\"\"\n",
    "Resultado = f\"\"\"{Titulo.title()} \n",
    "{Plantilla}\"\"\" \n",
    "print(Resultado)"
   ]
  },
  {
   "cell_type": "code",
   "execution_count": 69,
   "metadata": {},
   "outputs": [
    {
     "name": "stdout",
     "output_type": "stream",
     "text": [
      "Viendo La Luna Atravez De La Tierra \n",
      "Nombre del planeta Tierra\n",
      "Gravedad en Luna: Es de 1.6199999999999999 m/s2 \n",
      "-----------------------------------------------\n",
      "Gravedad en: Ganímedes\n",
      "Nombre del planeta: Marte \n",
      "Gravedad en Ganímedes: 0.00143 m/s2\n",
      "\n"
     ]
    }
   ],
   "source": [
    "name = \"Luna\"\n",
    "gravity = 0.00162 # in kms\n",
    "planet = \"Tierra\"\n",
    "Titulo = \"Viendo la \" + name + \" atravez de la \" + planet\n",
    "Plantilla = f\"\"\"Nombre del planeta {planet}\n",
    "Gravedad en {name}: Es de {gravity * 1000} m/s2 \"\"\"\n",
    "Resultado = f\"\"\"{Titulo.title()} \n",
    "{Plantilla}\"\"\" \n",
    "print(Resultado)\n",
    "print(\"-----------------------------------------------\")\n",
    "########################\n",
    "planeta = 'Marte '\n",
    "gravedad  = 0.00143\n",
    "nombre = 'Ganímedes'\n",
    "nuevo = \"\"\"Gravedad en: {nombre}\n",
    "Nombre del planeta: {planeta}\n",
    "Gravedad en {nombre}: {gravedad} m/s2\n",
    "\"\"\"\n",
    "print(nuevo.format(nombre=nombre, planeta=planeta, gravedad=gravedad))"
   ]
  }
 ],
 "metadata": {
  "interpreter": {
   "hash": "dd1d1a0ba3a1da8ac5aad342e993d5a78214a9a63e276c6df5fb5022f5e6ccc7"
  },
  "kernelspec": {
   "display_name": "Python 3.10.2 64-bit",
   "language": "python",
   "name": "python3"
  },
  "language_info": {
   "codemirror_mode": {
    "name": "ipython",
    "version": 3
   },
   "file_extension": ".py",
   "mimetype": "text/x-python",
   "name": "python",
   "nbconvert_exporter": "python",
   "pygments_lexer": "ipython3",
   "version": "3.10.2"
  },
  "orig_nbformat": 4
 },
 "nbformat": 4,
 "nbformat_minor": 2
}
