{
 "cells": [
  {
   "cell_type": "code",
   "execution_count": 9,
   "metadata": {},
   "outputs": [
    {
     "name": "stdout",
     "output_type": "stream",
     "text": [
      "Son 8 planetas en total\n",
      "Pluton es considerado un planeta enano\n"
     ]
    }
   ],
   "source": [
    "planets = ['Mercurio', 'Venus', 'Tierra', 'Marte', 'Jupiter', 'Saturno','Urano', 'Neptuno']\n",
    "print(\"Son\",len(planets), \"planetas en total\")\n",
    "planets.append('Pluton')\n",
    "print(planets[8], 'es considerado un planeta enano')\n"
   ]
  },
  {
   "cell_type": "code",
   "execution_count": 36,
   "metadata": {},
   "outputs": [
    {
     "name": "stdout",
     "output_type": "stream",
     "text": [
      "El planeta mas cercano a Venus\n",
      "es  ['Mercury']\n",
      "Aqui estan los planeas mas lejanos a Venus\n",
      "['Earth', 'Mars', 'Jupiter', 'Saturn', 'Neptune']\n"
     ]
    }
   ],
   "source": [
    "# Lista de planetas\n",
    "planets = ['Mercury', 'Venus', 'Earth', 'Mars', 'Jupiter', 'Saturn', 'Neptune']\n",
    "seleccionar = input(\"Porfavor ingresar nombre de un planeta(Empezando con mayuscula)\")\n",
    "buscador = planets.index(seleccionar)\n",
    "print(\"El planeta mas cercano a \" + seleccionar)\n",
    "print(\"es \" ,planets[0:buscador])\n",
    "print(\"Aqui estan los planeas mas lejanos a \" + seleccionar)\n",
    "print(planets[buscador + 1:])"
   ]
  }
 ],
 "metadata": {
  "interpreter": {
   "hash": "dd1d1a0ba3a1da8ac5aad342e993d5a78214a9a63e276c6df5fb5022f5e6ccc7"
  },
  "kernelspec": {
   "display_name": "Python 3.10.2 64-bit",
   "language": "python",
   "name": "python3"
  },
  "language_info": {
   "codemirror_mode": {
    "name": "ipython",
    "version": 3
   },
   "file_extension": ".py",
   "mimetype": "text/x-python",
   "name": "python",
   "nbconvert_exporter": "python",
   "pygments_lexer": "ipython3",
   "version": "3.10.2"
  },
  "orig_nbformat": 4
 },
 "nbformat": 4,
 "nbformat_minor": 2
}
