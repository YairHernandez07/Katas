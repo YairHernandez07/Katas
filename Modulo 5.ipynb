{
 "cells": [
  {
   "cell_type": "code",
   "execution_count": 14,
   "metadata": {},
   "outputs": [
    {
     "name": "stdout",
     "output_type": "stream",
     "text": [
      "628949330 km\n",
      "1012195830.53952 millas\n"
     ]
    }
   ],
   "source": [
    "Tierra = 149597870\n",
    "Jupiter = 778547200 \n",
    "distancia = Jupiter - Tierra\n",
    "print(distancia , \"km\")\n",
    "print(distancia * 1.609344 , \"millas\")"
   ]
  },
  {
   "cell_type": "code",
   "execution_count": 2,
   "metadata": {},
   "outputs": [
    {
     "name": "stdout",
     "output_type": "stream",
     "text": [
      "-91700000 Km\n",
      "-147576844.8 millas\n"
     ]
    }
   ],
   "source": [
    "#entradas de usuario\n",
    "Primer_planeta = input(\"Introducior la distancia del sol para el primer planeta en km\")\n",
    "Segundo_planeta = input(\"Introducior la distancia del sol para el Segundo planeta en km\")\n",
    "#convercion a nuemeros enteros\n",
    "Primer_planeta = int(Primer_planeta)\n",
    "Segundo_planeta = int(Segundo_planeta)\n",
    "#calculo\n",
    "distancia = Primer_planeta - Segundo_planeta\n",
    "print(distancia, \"Km\")\n",
    "\n",
    "#convercion de km a millas\n",
    "distancia_millas = distancia * 1.609344\n",
    "print(distancia_millas, \"millas\")\n"
   ]
  }
 ],
 "metadata": {
  "interpreter": {
   "hash": "dd1d1a0ba3a1da8ac5aad342e993d5a78214a9a63e276c6df5fb5022f5e6ccc7"
  },
  "kernelspec": {
   "display_name": "Python 3.10.2 64-bit",
   "language": "python",
   "name": "python3"
  },
  "language_info": {
   "codemirror_mode": {
    "name": "ipython",
    "version": 3
   },
   "file_extension": ".py",
   "mimetype": "text/x-python",
   "name": "python",
   "nbconvert_exporter": "python",
   "pygments_lexer": "ipython3",
   "version": "3.10.2"
  },
  "orig_nbformat": 4
 },
 "nbformat": 4,
 "nbformat_minor": 2
}
